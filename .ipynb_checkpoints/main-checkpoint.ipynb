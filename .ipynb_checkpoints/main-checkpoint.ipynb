{
 "cells": [
  {
   "cell_type": "markdown",
   "metadata": {},
   "source": [
    "# SAM2\n",
    "import sam2 from huggingface."
   ]
  },
  {
   "cell_type": "markdown",
   "metadata": {},
   "source": [
    "## For image prediction:\n",
    "\n",
    "```python\n",
    "#文本提示 (Text prompts): 一段描述要分割区域的自然语言文本。例如：\n",
    "input_prompts = \"A red apple on a wooden table\"\n",
    "\n",
    "#点提示 (Point prompts): 指定图像中的某些像素点，以标记感兴趣的区域。点提示通常包括点的坐标和点的类型（正/负）。示例：\n",
    "input_prompts={\n",
    "    \"points\":[[100,200],[150,250],[150,250]],# 坐标点 (x, y)\n",
    "    \"labels\":[1,0],# 1表示正样本，0表示负样本\n",
    "}\n",
    "#框提示 (Box prompts): 用矩形框标记目标区域。通常表示为左上角和右下角的坐标。例如：\n",
    "input_prompts = {\n",
    "    \"boxes\": [[50, 50, 200, 200]],  # 每个框的格式为 [x_min, y_min, x_max, y_max]\n",
    "}\n",
    "#混合提示 (Mixed prompts): 可以同时提供文本、点和框提示。例如：\n",
    "input_prompts = {\n",
    "    \"text\": \"A cat sitting on a sofa\",\n",
    "    \"points\": [[120, 150], [200, 250]],\n",
    "    \"labels\": [1, 1],\n",
    "    \"boxes\": [[100, 100, 300, 300]],\n",
    "}\n",
    "```\n"
   ]
  },
  {
   "cell_type": "code",
   "execution_count": null,
   "metadata": {},
   "outputs": [],
   "source": [
    "from PIL import Image\n",
    "image = Image.open(\"images/image.png\")\n",
    "image.show() "
   ]
  },
  {
   "cell_type": "code",
   "execution_count": 1,
   "metadata": {},
   "outputs": [
    {
     "name": "stdout",
     "output_type": "stream",
     "text": [
      "/ndata/yzh/SAM2-for-XR\n"
     ]
    },
    {
     "ename": "FileNotFoundError",
     "evalue": "The file images/image.png does not exist.",
     "output_type": "error",
     "traceback": [
      "\u001b[0;31m---------------------------------------------------------------------------\u001b[0m",
      "\u001b[0;31mFileNotFoundError\u001b[0m                         Traceback (most recent call last)",
      "Cell \u001b[0;32mIn[1], line 11\u001b[0m\n\u001b[1;32m      9\u001b[0m \u001b[38;5;66;03m# 检查文件是否存在\u001b[39;00m\n\u001b[1;32m     10\u001b[0m \u001b[38;5;28;01mif\u001b[39;00m \u001b[38;5;129;01mnot\u001b[39;00m os\u001b[38;5;241m.\u001b[39mpath\u001b[38;5;241m.\u001b[39mexists(image_path):\n\u001b[0;32m---> 11\u001b[0m     \u001b[38;5;28;01mraise\u001b[39;00m \u001b[38;5;167;01mFileNotFoundError\u001b[39;00m(\u001b[38;5;124mf\u001b[39m\u001b[38;5;124m\"\u001b[39m\u001b[38;5;124mThe file \u001b[39m\u001b[38;5;132;01m{\u001b[39;00mimage_path\u001b[38;5;132;01m}\u001b[39;00m\u001b[38;5;124m does not exist.\u001b[39m\u001b[38;5;124m\"\u001b[39m)\n\u001b[1;32m     13\u001b[0m \u001b[38;5;66;03m# 验证图像格式\u001b[39;00m\n\u001b[1;32m     14\u001b[0m \u001b[38;5;28;01mtry\u001b[39;00m:\n",
      "\u001b[0;31mFileNotFoundError\u001b[0m: The file images/image.png does not exist."
     ]
    }
   ],
   "source": [
    "import torch\n",
    "from PIL import Image\n",
    "from sam2_oringinal.sam2.sam2_image_predictor import SAM2ImagePredictor\n",
    "import os\n",
    "print(os.getcwd()) \n",
    "# 图像路径\n",
    "image_path = \"images/image.png\"\n",
    "\n",
    "# 检查文件是否存在\n",
    "if not os.path.exists(image_path):\n",
    "    raise FileNotFoundError(f\"The file {image_path} does not exist.\")\n",
    "\n",
    "# 验证图像格式\n",
    "try:\n",
    "    img = Image.open(image_path)\n",
    "    img.verify()\n",
    "except Exception as e:\n",
    "    raise ValueError(f\"Image at {image_path} is not valid: {e}\")\n",
    "\n",
    "# 加载模型\n",
    "predictor = SAM2ImagePredictor.from_pretrained(\"facebook/sam2-hiera-large\")\n",
    "\n",
    "# 提供 prompt\n",
    "input_prompts = {\n",
    "    \"points\": [[100, 200], [150, 250]],\n",
    "    \"labels\": [1, 0],\n",
    "}\n",
    "\n",
    "# 设置图像并预测\n",
    "with torch.inference_mode(), torch.autocast(\"cuda\", dtype=torch.bfloat16):\n",
    "    predictor.set_image(image_path)\n",
    "    masks, _, _ = predictor.predict(input_prompts)\n"
   ]
  },
  {
   "cell_type": "markdown",
   "metadata": {},
   "source": [
    "## For video prediction:"
   ]
  },
  {
   "cell_type": "code",
   "execution_count": 6,
   "metadata": {},
   "outputs": [
    {
     "name": "stdout",
     "output_type": "stream",
     "text": [
      "Requirement already satisfied: huggingface_hub in /ndata/yzh/anaconda3/lib/python3.11/site-packages (0.26.5)\n",
      "Requirement already satisfied: filelock in /ndata/yzh/anaconda3/lib/python3.11/site-packages (from huggingface_hub) (3.13.1)\n",
      "Requirement already satisfied: fsspec>=2023.5.0 in /ndata/yzh/anaconda3/lib/python3.11/site-packages (from huggingface_hub) (2024.3.1)\n",
      "Requirement already satisfied: packaging>=20.9 in /ndata/yzh/anaconda3/lib/python3.11/site-packages (from huggingface_hub) (23.2)\n",
      "Requirement already satisfied: pyyaml>=5.1 in /ndata/yzh/anaconda3/lib/python3.11/site-packages (from huggingface_hub) (6.0.1)\n",
      "Requirement already satisfied: requests in /ndata/yzh/anaconda3/lib/python3.11/site-packages (from huggingface_hub) (2.32.2)\n",
      "Requirement already satisfied: tqdm>=4.42.1 in /ndata/yzh/anaconda3/lib/python3.11/site-packages (from huggingface_hub) (4.66.4)\n",
      "Requirement already satisfied: typing-extensions>=3.7.4.3 in /ndata/yzh/anaconda3/lib/python3.11/site-packages (from huggingface_hub) (4.11.0)\n",
      "Requirement already satisfied: charset-normalizer<4,>=2 in /ndata/yzh/anaconda3/lib/python3.11/site-packages (from requests->huggingface_hub) (2.0.4)\n",
      "Requirement already satisfied: idna<4,>=2.5 in /ndata/yzh/anaconda3/lib/python3.11/site-packages (from requests->huggingface_hub) (3.7)\n",
      "Requirement already satisfied: urllib3<3,>=1.21.1 in /ndata/yzh/anaconda3/lib/python3.11/site-packages (from requests->huggingface_hub) (2.2.1)\n",
      "Requirement already satisfied: certifi>=2017.4.17 in /ndata/yzh/anaconda3/lib/python3.11/site-packages (from requests->huggingface_hub) (2024.2.2)\n",
      "Note: you may need to restart the kernel to use updated packages.\n"
     ]
    }
   ],
   "source": [
    "%pip install --upgrade huggingface_hub"
   ]
  },
  {
   "cell_type": "code",
   "execution_count": null,
   "metadata": {},
   "outputs": [],
   "source": [
    "import torch\n",
    "from sam2.sam2_video_predictor import SAM2VideoPredictor\n",
    "\n",
    "predictor = SAM2VideoPredictor.from_pretrained(\"facebook/sam2-hiera-large\")\n",
    "\n",
    "with torch.inference_mode(), torch.autocast(\"cuda\", dtype=torch.bfloat16):\n",
    "    state = predictor.init_state(<your_video>)\n",
    "\n",
    "    # add new prompts and instantly get the output on the same frame\n",
    "    frame_idx, object_ids, masks = predictor.add_new_points_or_box(state, <your_prompts>):\n",
    "\n",
    "    # propagate the prompts to get masklets throughout the video\n",
    "    for frame_idx, object_ids, masks in predictor.propagate_in_video(state):"
   ]
  }
 ],
 "metadata": {
  "kernelspec": {
   "display_name": "Python 3 (ipykernel)",
   "language": "python",
   "name": "python3"
  },
  "language_info": {
   "codemirror_mode": {
    "name": "ipython",
    "version": 3
   },
   "file_extension": ".py",
   "mimetype": "text/x-python",
   "name": "python",
   "nbconvert_exporter": "python",
   "pygments_lexer": "ipython3",
   "version": "3.11.7"
  }
 },
 "nbformat": 4,
 "nbformat_minor": 4
}
